{
 "cells": [
  {
   "cell_type": "markdown",
   "id": "9411c3b4",
   "metadata": {},
   "source": [
    "### ETL from multiple file formats using functions then create a log file"
   ]
  },
  {
   "cell_type": "code",
   "execution_count": 2,
   "id": "8bd64057",
   "metadata": {},
   "outputs": [],
   "source": [
    "import glob                         \n",
    "import pandas as pd                 \n",
    "import xml.etree.ElementTree as ET \n",
    "from datetime import datetime"
   ]
  },
  {
   "cell_type": "code",
   "execution_count": 3,
   "id": "801539bf",
   "metadata": {},
   "outputs": [],
   "source": [
    "tmpfile    = \"temp.tmp\"              \n",
    "logfile    = \"logfile.txt\"            \n",
    "targetfile = \"transformed_data.csv\"   "
   ]
  },
  {
   "cell_type": "code",
   "execution_count": 4,
   "id": "de1602c0",
   "metadata": {},
   "outputs": [],
   "source": [
    "def extract_from_csv(file_to_process):\n",
    "    dataframe = pd.read_csv(file_to_process)\n",
    "    return dataframe"
   ]
  },
  {
   "cell_type": "code",
   "execution_count": 5,
   "id": "30740cfb",
   "metadata": {},
   "outputs": [],
   "source": [
    "def extract_from_json(file_to_process):\n",
    "    dataframe = pd.read_json(file_to_process,lines=True)\n",
    "    return dataframe"
   ]
  },
  {
   "cell_type": "code",
   "execution_count": 6,
   "id": "2440ad47",
   "metadata": {},
   "outputs": [],
   "source": [
    "def extract_from_xml(file_to_process):\n",
    "    dataframe = pd.DataFrame(columns=[\"name\", \"height\", \"weight\"])\n",
    "    tree = ET.parse(file_to_process)\n",
    "    root = tree.getroot()\n",
    "    for person in root:\n",
    "        name = person.find(\"name\").text\n",
    "        height = float(person.find(\"height\").text)\n",
    "        weight = float(person.find(\"weight\").text)\n",
    "        dataframe = dataframe.append({\"name\":name, \"height\":height, \"weight\":weight}, ignore_index=True)\n",
    "    return dataframe"
   ]
  },
  {
   "cell_type": "code",
   "execution_count": 7,
   "id": "191f3579",
   "metadata": {},
   "outputs": [],
   "source": [
    "def extract():\n",
    "    extracted_data = pd.DataFrame(columns=['name','height','weight']) \n",
    "    \n",
    "    for csvfile in glob.glob(r\"C:\\Users\\PC\\Desktop\\test source\\*.csv\"):\n",
    "        extracted_data = extracted_data.append(extract_from_csv(csvfile), ignore_index=True)\n",
    "        \n",
    "    for jsonfile in glob.glob(r\"C:\\Users\\PC\\Desktop\\test source\\*.json\"):\n",
    "        extracted_data = extracted_data.append(extract_from_json(jsonfile), ignore_index=True)\n",
    "    \n",
    "    for xmlfile in glob.glob(r\"C:\\Users\\PC\\Desktop\\test source\\*.xml\"):\n",
    "        extracted_data = extracted_data.append(extract_from_xml(xmlfile), ignore_index=True)\n",
    "        \n",
    "    return extracted_data"
   ]
  },
  {
   "cell_type": "code",
   "execution_count": 8,
   "id": "a07e54ec",
   "metadata": {},
   "outputs": [],
   "source": [
    "def transform(data):\n",
    "        \n",
    "        data.height = data.height.astype(float)\n",
    "        \n",
    "        data['height'] = round(data.height * 0.0254,2)\n",
    "        \n",
    "        \n",
    "        data.weight = data.weight.astype(float)\n",
    "\n",
    "        data['weight'] = round(data.weight * 0.45359237,2)\n",
    "        return data"
   ]
  },
  {
   "cell_type": "code",
   "execution_count": 9,
   "id": "e183a7e9",
   "metadata": {},
   "outputs": [],
   "source": [
    "def load(targetfile,data_to_load):\n",
    "    data_to_load.to_csv(targetfile)  "
   ]
  },
  {
   "cell_type": "code",
   "execution_count": 10,
   "id": "b785fb0c",
   "metadata": {},
   "outputs": [],
   "source": [
    "def log(message):\n",
    "    timestamp_format = '%Y-%h-%d-%H:%M:%S' \n",
    "    now = datetime.now() \n",
    "    timestamp = now.strftime(timestamp_format)\n",
    "    with open(\"logfile.txt\",\"a\") as f:\n",
    "        f.write(timestamp + ',' + message + '\\n')"
   ]
  },
  {
   "cell_type": "code",
   "execution_count": 11,
   "id": "7581dec5",
   "metadata": {},
   "outputs": [],
   "source": [
    "log(\"ETL Job Started\")"
   ]
  },
  {
   "cell_type": "code",
   "execution_count": 12,
   "id": "737f2edb",
   "metadata": {},
   "outputs": [
    {
     "data": {
      "text/html": [
       "<div>\n",
       "<style scoped>\n",
       "    .dataframe tbody tr th:only-of-type {\n",
       "        vertical-align: middle;\n",
       "    }\n",
       "\n",
       "    .dataframe tbody tr th {\n",
       "        vertical-align: top;\n",
       "    }\n",
       "\n",
       "    .dataframe thead th {\n",
       "        text-align: right;\n",
       "    }\n",
       "</style>\n",
       "<table border=\"1\" class=\"dataframe\">\n",
       "  <thead>\n",
       "    <tr style=\"text-align: right;\">\n",
       "      <th></th>\n",
       "      <th>name</th>\n",
       "      <th>height</th>\n",
       "      <th>weight</th>\n",
       "    </tr>\n",
       "  </thead>\n",
       "  <tbody>\n",
       "  </tbody>\n",
       "</table>\n",
       "</div>"
      ],
      "text/plain": [
       "Empty DataFrame\n",
       "Columns: [name, height, weight]\n",
       "Index: []"
      ]
     },
     "execution_count": 12,
     "metadata": {},
     "output_type": "execute_result"
    }
   ],
   "source": [
    "log(\"Extract phase Started\")\n",
    "extracted_data = extract()\n",
    "log(\"Extract phase Ended\")\n",
    "extracted_data"
   ]
  },
  {
   "cell_type": "code",
   "execution_count": 13,
   "id": "10f7aecd",
   "metadata": {},
   "outputs": [
    {
     "data": {
      "text/html": [
       "<div>\n",
       "<style scoped>\n",
       "    .dataframe tbody tr th:only-of-type {\n",
       "        vertical-align: middle;\n",
       "    }\n",
       "\n",
       "    .dataframe tbody tr th {\n",
       "        vertical-align: top;\n",
       "    }\n",
       "\n",
       "    .dataframe thead th {\n",
       "        text-align: right;\n",
       "    }\n",
       "</style>\n",
       "<table border=\"1\" class=\"dataframe\">\n",
       "  <thead>\n",
       "    <tr style=\"text-align: right;\">\n",
       "      <th></th>\n",
       "      <th>name</th>\n",
       "      <th>height</th>\n",
       "      <th>weight</th>\n",
       "    </tr>\n",
       "  </thead>\n",
       "  <tbody>\n",
       "  </tbody>\n",
       "</table>\n",
       "</div>"
      ],
      "text/plain": [
       "Empty DataFrame\n",
       "Columns: [name, height, weight]\n",
       "Index: []"
      ]
     },
     "execution_count": 13,
     "metadata": {},
     "output_type": "execute_result"
    }
   ],
   "source": [
    "log(\"Transform phase Started\")\n",
    "transformed_data = transform(extracted_data)\n",
    "log(\"Transform phase Ended\")\n",
    "transformed_data "
   ]
  },
  {
   "cell_type": "code",
   "execution_count": 14,
   "id": "b5981cee",
   "metadata": {},
   "outputs": [],
   "source": [
    "log(\"Load phase Started\")\n",
    "load(targetfile,transformed_data)\n",
    "log(\"Load phase Ended\")"
   ]
  },
  {
   "cell_type": "code",
   "execution_count": 15,
   "id": "facd0287",
   "metadata": {},
   "outputs": [],
   "source": [
    "log(\"ETL Job Ended\")"
   ]
  },
  {
   "cell_type": "code",
   "execution_count": 16,
   "id": "add223c6",
   "metadata": {},
   "outputs": [
    {
     "data": {
      "text/plain": [
       "['2023-Apr-22-22:12:02,ETL Job Started\\n',\n",
       " '2023-Apr-22-22:12:22,Extract phase Started\\n',\n",
       " '2023-Apr-22-22:12:22,Extract phase Ended\\n',\n",
       " '2023-Apr-22-22:12:47,ETL Job Started\\n',\n",
       " '2023-Apr-22-22:13:11,Transform phase Started\\n',\n",
       " '2023-Apr-22-22:13:11,Transform phase Ended\\n',\n",
       " '2023-Apr-22-22:19:20,Load phase Started\\n',\n",
       " '2023-Apr-22-22:19:20,Load phase Ended\\n',\n",
       " '2023-Apr-22-22:19:52,ETL Job Ended\\n',\n",
       " '2023-Apr-22-22:26:15,Extract phase Started\\n',\n",
       " '2023-Apr-22-22:26:15,Extract phase Ended\\n',\n",
       " '2023-Apr-22-22:26:21,Transform phase Started\\n',\n",
       " '2023-Apr-22-22:26:21,Transform phase Ended\\n',\n",
       " '2023-Apr-22-22:54:50,ETL Job Started\\n',\n",
       " '2023-Apr-22-22:54:51,Extract phase Started\\n',\n",
       " '2023-Apr-22-22:54:51,Extract phase Ended\\n',\n",
       " '2023-Apr-22-22:54:52,Transform phase Started\\n',\n",
       " '2023-Apr-22-22:54:52,Transform phase Ended\\n',\n",
       " '2023-Apr-22-22:54:53,Load phase Started\\n',\n",
       " '2023-Apr-22-22:54:53,Load phase Ended\\n',\n",
       " '2023-Apr-22-22:54:54,ETL Job Ended\\n',\n",
       " '2023-Apr-22-23:01:30,ETL Job Started\\n',\n",
       " '2023-Apr-22-23:01:30,Extract phase Started\\n',\n",
       " '2023-Apr-22-23:01:30,Extract phase Ended\\n',\n",
       " '2023-Apr-22-23:01:31,Transform phase Started\\n',\n",
       " '2023-Apr-22-23:01:31,Transform phase Ended\\n',\n",
       " '2023-Apr-22-23:01:35,Load phase Started\\n',\n",
       " '2023-Apr-22-23:01:35,Load phase Ended\\n',\n",
       " '2023-Apr-22-23:01:36,ETL Job Ended\\n',\n",
       " '2023-Jul-06-15:46:59,ETL Job Started\\n',\n",
       " '2023-Jul-06-15:46:59,Extract phase Started\\n',\n",
       " '2023-Jul-06-15:46:59,Extract phase Ended\\n',\n",
       " '2023-Jul-06-15:47:01,Transform phase Started\\n',\n",
       " '2023-Jul-06-15:47:01,Transform phase Ended\\n',\n",
       " '2023-Jul-06-15:47:01,Load phase Started\\n',\n",
       " '2023-Jul-06-15:47:01,Load phase Ended\\n',\n",
       " '2023-Jul-06-15:47:02,ETL Job Ended\\n']"
      ]
     },
     "execution_count": 16,
     "metadata": {},
     "output_type": "execute_result"
    }
   ],
   "source": [
    "with open(\"logfile.txt\",'r') as f :\n",
    "    x=f.readlines()\n",
    "x"
   ]
  },
  {
   "cell_type": "code",
   "execution_count": null,
   "id": "a0c43e15",
   "metadata": {},
   "outputs": [],
   "source": []
  }
 ],
 "metadata": {
  "kernelspec": {
   "display_name": "Python 3 (ipykernel)",
   "language": "python",
   "name": "python3"
  },
  "language_info": {
   "codemirror_mode": {
    "name": "ipython",
    "version": 3
   },
   "file_extension": ".py",
   "mimetype": "text/x-python",
   "name": "python",
   "nbconvert_exporter": "python",
   "pygments_lexer": "ipython3",
   "version": "3.9.13"
  }
 },
 "nbformat": 4,
 "nbformat_minor": 5
}
